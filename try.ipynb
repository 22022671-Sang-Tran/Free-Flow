{
 "cells": [
  {
   "cell_type": "code",
   "execution_count": 8,
   "metadata": {},
   "outputs": [
    {
     "name": "stdout",
     "output_type": "stream",
     "text": [
      "Collecting pygameNote: you may need to restart the kernel to use updated packages.\n",
      "\n",
      "  Downloading pygame-2.5.2-cp311-cp311-win_amd64.whl.metadata (13 kB)\n",
      "Downloading pygame-2.5.2-cp311-cp311-win_amd64.whl (10.8 MB)\n",
      "   ---------------------------------------- 0.0/10.8 MB ? eta -:--:--\n",
      "    --------------------------------------- 0.2/10.8 MB 4.2 MB/s eta 0:00:03\n",
      "   ----- ---------------------------------- 1.4/10.8 MB 6.7 MB/s eta 0:00:02\n",
      "   ------ --------------------------------- 1.7/10.8 MB 6.8 MB/s eta 0:00:02\n",
      "   ------ --------------------------------- 1.8/10.8 MB 4.9 MB/s eta 0:00:02\n",
      "   ----------- ---------------------------- 3.0/10.8 MB 6.3 MB/s eta 0:00:02\n",
      "   ------------- -------------------------- 3.6/10.8 MB 6.8 MB/s eta 0:00:02\n",
      "   ---------------- ----------------------- 4.3/10.8 MB 7.3 MB/s eta 0:00:01\n",
      "   ------------------ --------------------- 5.0/10.8 MB 8.1 MB/s eta 0:00:01\n",
      "   --------------------- ------------------ 5.8/10.8 MB 8.3 MB/s eta 0:00:01\n",
      "   ----------------------- ---------------- 6.4/10.8 MB 8.5 MB/s eta 0:00:01\n",
      "   ------------------------- -------------- 6.8/10.8 MB 8.1 MB/s eta 0:00:01\n",
      "   -------------------------- ------------- 7.1/10.8 MB 7.9 MB/s eta 0:00:01\n",
      "   ---------------------------- ----------- 7.8/10.8 MB 8.1 MB/s eta 0:00:01\n",
      "   ----------------------------- ---------- 7.9/10.8 MB 7.9 MB/s eta 0:00:01\n",
      "   ------------------------------ --------- 8.2/10.8 MB 7.6 MB/s eta 0:00:01\n",
      "   ------------------------------ --------- 8.3/10.8 MB 7.5 MB/s eta 0:00:01\n",
      "   ------------------------------ --------- 8.3/10.8 MB 7.5 MB/s eta 0:00:01\n",
      "   --------------------------------- ------ 9.1/10.8 MB 7.4 MB/s eta 0:00:01\n",
      "   ----------------------------------- ---- 9.5/10.8 MB 7.3 MB/s eta 0:00:01\n",
      "   ------------------------------------ --- 9.9/10.8 MB 7.3 MB/s eta 0:00:01\n",
      "   ------------------------------------- -- 10.1/10.8 MB 7.1 MB/s eta 0:00:01\n",
      "   ---------------------------------------  10.6/10.8 MB 7.2 MB/s eta 0:00:01\n",
      "   ---------------------------------------  10.8/10.8 MB 7.2 MB/s eta 0:00:01\n",
      "   ---------------------------------------  10.8/10.8 MB 7.2 MB/s eta 0:00:01\n",
      "   ---------------------------------------  10.8/10.8 MB 7.2 MB/s eta 0:00:01\n",
      "   ---------------------------------------  10.8/10.8 MB 7.2 MB/s eta 0:00:01\n",
      "   ---------------------------------------  10.8/10.8 MB 7.2 MB/s eta 0:00:01\n",
      "   ---------------------------------------  10.8/10.8 MB 7.2 MB/s eta 0:00:01\n",
      "   ---------------------------------------  10.8/10.8 MB 7.2 MB/s eta 0:00:01\n",
      "   ---------------------------------------  10.8/10.8 MB 7.2 MB/s eta 0:00:01\n",
      "   ---------------------------------------  10.8/10.8 MB 7.2 MB/s eta 0:00:01\n",
      "   ---------------------------------------  10.8/10.8 MB 7.2 MB/s eta 0:00:01\n",
      "   ---------------------------------------  10.8/10.8 MB 7.2 MB/s eta 0:00:01\n",
      "   ---------------------------------------  10.8/10.8 MB 7.2 MB/s eta 0:00:01\n",
      "   ---------------------------------------  10.8/10.8 MB 7.2 MB/s eta 0:00:01\n",
      "   ---------------------------------------- 10.8/10.8 MB 4.8 MB/s eta 0:00:00\n",
      "Installing collected packages: pygame\n",
      "Successfully installed pygame-2.5.2\n"
     ]
    }
   ],
   "source": [
    "%pip install pygame"
   ]
  },
  {
   "cell_type": "code",
   "execution_count": 1,
   "metadata": {},
   "outputs": [
    {
     "name": "stdout",
     "output_type": "stream",
     "text": [
      "pygame 2.5.2 (SDL 2.28.3, Python 3.11.5)\n",
      "Hello from the pygame community. https://www.pygame.org/contribute.html\n"
     ]
    },
    {
     "ename": "",
     "evalue": "",
     "output_type": "error",
     "traceback": [
      "\u001b[1;31mThe Kernel crashed while executing code in the current cell or a previous cell. \n",
      "\u001b[1;31mPlease review the code in the cell(s) to identify a possible cause of the failure. \n",
      "\u001b[1;31mClick <a href='https://aka.ms/vscodeJupyterKernelCrash'>here</a> for more info. \n",
      "\u001b[1;31mView Jupyter <a href='command:jupyter.viewOutput'>log</a> for further details."
     ]
    }
   ],
   "source": [
    "import pygame\n",
    "\n",
    "pygame.init()\n",
    "pygame.display.set_mode((500,500))\n",
    "pygame.display.set_caption(\"First\")"
   ]
  }
 ],
 "metadata": {
  "kernelspec": {
   "display_name": "base",
   "language": "python",
   "name": "python3"
  },
  "language_info": {
   "codemirror_mode": {
    "name": "ipython",
    "version": 3
   },
   "file_extension": ".py",
   "mimetype": "text/x-python",
   "name": "python",
   "nbconvert_exporter": "python",
   "pygments_lexer": "ipython3",
   "version": "3.11.5"
  }
 },
 "nbformat": 4,
 "nbformat_minor": 2
}
